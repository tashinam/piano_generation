{
  "nbformat": 4,
  "nbformat_minor": 0,
  "metadata": {
    "colab": {
      "name": "ToyDataset.ipynb",
      "provenance": [],
      "mount_file_id": "1V0payP3iQG9acntI2R_XSQEiYBB6sHJ-",
      "authorship_tag": "ABX9TyMvBP70JVW2Cgnb0iPFUUbt",
      "include_colab_link": true
    },
    "kernelspec": {
      "name": "python3",
      "display_name": "Python 3"
    },
    "language_info": {
      "name": "python"
    }
  },
  "cells": [
    {
      "cell_type": "markdown",
      "metadata": {
        "id": "view-in-github",
        "colab_type": "text"
      },
      "source": [
        "<a href=\"https://colab.research.google.com/github/tashinam/piano_generation/blob/main/ToyDataset.ipynb\" target=\"_parent\"><img src=\"https://colab.research.google.com/assets/colab-badge.svg\" alt=\"Open In Colab\"/></a>"
      ]
    },
    {
      "cell_type": "code",
      "metadata": {
        "id": "Xo5zgyxu5Blm"
      },
      "source": [
        "import numpy as np\n",
        "import pandas as pd\n",
        "from torch.distributions.categorical import Categorical\n",
        "import torch\n",
        "import matplotlib.pyplot as plt\n",
        "from scipy.fftpack import dct, idct"
      ],
      "execution_count": 34,
      "outputs": []
    },
    {
      "cell_type": "code",
      "source": [
        "from IPython.display import HTML, Image\n",
        "from google.colab.output import eval_js\n",
        "from base64 import b64decode\n",
        "\n",
        "canvas_html = \"\"\"\n",
        "<canvas width=%d height=%d></canvas>\n",
        "<button>Finish</button>\n",
        "<script>\n",
        "var canvas = document.querySelector('canvas')\n",
        "var ctx = canvas.getContext('2d')\n",
        "ctx.fillStyle = \"blue\";\n",
        "ctx.fillRect(0, 0, canvas.width, canvas.height);\n",
        "ctx.lineWidth = %d\n",
        "var button = document.querySelector('button')\n",
        "var mouse = {x: 0, y: 0}\n",
        "var mousex = []\n",
        "var mousey = []\n",
        "canvas.addEventListener('mousemove', function(e) {\n",
        "  mouse.x = e.pageX - this.offsetLeft\n",
        "  mouse.y = e.pageY - this.offsetTop\n",
        "})\n",
        "canvas.onmousedown = ()=>{\n",
        "  ctx.beginPath()\n",
        "  ctx.moveTo(mouse.x, mouse.y)\n",
        "  canvas.addEventListener('mousemove', onPaint)\n",
        "}\n",
        "canvas.onmouseup = ()=>{\n",
        "  canvas.removeEventListener('mousemove', onPaint)\n",
        "}\n",
        "var onPaint = ()=>{\n",
        "  ctx.lineTo(mouse.x, mouse.y)\n",
        "  ctx.stroke()\n",
        "  mousex.push(mouse.x)\n",
        "  mousey.push(mouse.y)\n",
        "}\n",
        "var data = new Promise(resolve=>{\n",
        "  button.onclick = ()=>{\n",
        "    resolve(canvas.toDataURL('image/png'))\n",
        "  }\n",
        "})\n",
        "\n",
        "</script>\n",
        "\"\"\"\n",
        "\n",
        "def draw(filename='drawing.png', w=400, h=200, line_width=1):\n",
        "  display(HTML(canvas_html % (w, h, line_width)))\n",
        "  data = eval_js(\"data\")\n",
        "  liney = eval_js(\"mousey\")\n",
        "  linex = eval_js(\"mousex\")\n",
        "  # binary = b64decode(data.split(',')[1])\n",
        "  # with open(filename, 'wb') as f:\n",
        "  #   f.write(binary)\n",
        "  return linex, [62-(y/9) for y in liney]"
      ],
      "metadata": {
        "id": "rE-wZRXfgXw-"
      },
      "execution_count": 93,
      "outputs": []
    },
    {
      "cell_type": "code",
      "source": [
        "linex, liney = draw(filename = \"line_sketch.png\", w=400, h=200, line_width=15)\n",
        "plt.scatter(linex,liney)"
      ],
      "metadata": {
        "colab": {
          "base_uri": "https://localhost:8080/",
          "height": 488
        },
        "id": "3TxghXYBgdIx",
        "outputId": "a586b1a8-1da4-45e6-ae3b-5805763e3922"
      },
      "execution_count": 94,
      "outputs": [
        {
          "output_type": "display_data",
          "data": {
            "text/html": [
              "\n",
              "<canvas width=400 height=200></canvas>\n",
              "<button>Finish</button>\n",
              "<script>\n",
              "var canvas = document.querySelector('canvas')\n",
              "var ctx = canvas.getContext('2d')\n",
              "ctx.fillStyle = \"blue\";\n",
              "ctx.fillRect(0, 0, canvas.width, canvas.height);\n",
              "ctx.lineWidth = 15\n",
              "var button = document.querySelector('button')\n",
              "var mouse = {x: 0, y: 0}\n",
              "var mousex = []\n",
              "var mousey = []\n",
              "canvas.addEventListener('mousemove', function(e) {\n",
              "  mouse.x = e.pageX - this.offsetLeft\n",
              "  mouse.y = e.pageY - this.offsetTop\n",
              "})\n",
              "canvas.onmousedown = ()=>{\n",
              "  ctx.beginPath()\n",
              "  ctx.moveTo(mouse.x, mouse.y)\n",
              "  canvas.addEventListener('mousemove', onPaint)\n",
              "}\n",
              "canvas.onmouseup = ()=>{\n",
              "  canvas.removeEventListener('mousemove', onPaint)\n",
              "}\n",
              "var onPaint = ()=>{\n",
              "  ctx.lineTo(mouse.x, mouse.y)\n",
              "  ctx.stroke()\n",
              "  mousex.push(mouse.x)\n",
              "  mousey.push(mouse.y)\n",
              "}\n",
              "var data = new Promise(resolve=>{\n",
              "  button.onclick = ()=>{\n",
              "    resolve(canvas.toDataURL('image/png'))\n",
              "  }\n",
              "})\n",
              "\n",
              "</script>\n"
            ],
            "text/plain": [
              "<IPython.core.display.HTML object>"
            ]
          },
          "metadata": {}
        },
        {
          "output_type": "execute_result",
          "data": {
            "text/plain": [
              "<matplotlib.collections.PathCollection at 0x7f178f8e6bd0>"
            ]
          },
          "metadata": {},
          "execution_count": 94
        },
        {
          "output_type": "display_data",
          "data": {
            "image/png": "[encoded data removed]",
            "text/plain": [
              "<Figure size 432x288 with 1 Axes>"
            ]
          },
          "metadata": {
            "needs_background": "light"
          }
        }
      ]
    },
    {
      "cell_type": "code",
      "source": [
        "y = liney\n",
        "y_longer = [x for x in y for a in range(1)]\n",
        "xs = range(len(y_longer))\n",
        "ys = y_longer\n",
        "N = len(y_longer)\n",
        "cs = dct(ys, norm='ortho')\n",
        "print(cs[1:4])\n",
        "za = idct(cs[:4], n=N, norm='ortho')\n",
        "plt.scatter(xs,ys)\n",
        "plt.plot(xs,za)\n",
        "plt.show()"
      ],
      "metadata": {
        "colab": {
          "base_uri": "https://localhost:8080/",
          "height": 282
        },
        "id": "pHQ2C9mrkuRM",
        "outputId": "5b0263e8-8f85-4656-dea3-e5a5101e5295"
      },
      "execution_count": 100,
      "outputs": [
        {
          "output_type": "stream",
          "name": "stdout",
          "text": [
            "[10.72802917 -8.94327497 -2.1315669 ]\n"
          ]
        },
        {
          "output_type": "display_data",
          "data": {
            "image/png": "[encoded data removed]",
            "text/plain": [
              "<Figure size 432x288 with 1 Axes>"
            ]
          },
          "metadata": {
            "needs_background": "light"
          }
        }
      ]
    },
    {
      "cell_type": "code",
      "metadata": {
        "id": "Nb2vqSLEouZL"
      },
      "source": [
        "def alpha(k, N):\n",
        "    if k == 0:\n",
        "        return 1 / np.sqrt(N)\n",
        "    else:\n",
        "        return np.sqrt(2/N)\n",
        "    \n",
        "def cosine(n, k, N):\n",
        "    return alpha(k, N) * np.cos(np.pi * (2*n + 1) * k / (2*N))"
      ],
      "execution_count": null,
      "outputs": []
    },
    {
      "cell_type": "code",
      "metadata": {
        "id": "wFLELKdg6NhI"
      },
      "source": [
        "# pairs = np.zeros((88*88,2))"
      ],
      "execution_count": null,
      "outputs": []
    },
    {
      "cell_type": "code",
      "metadata": {
        "id": "wGhmHWTi5OvL"
      },
      "source": [
        "# for i in range(88):\n",
        "#   for j in range(88):\n",
        "#     pairs[i*88+j]=np.array([i,j])"
      ],
      "execution_count": null,
      "outputs": []
    },
    {
      "cell_type": "code",
      "metadata": {
        "id": "CVabEN8V764w"
      },
      "source": [
        "# conditions = np.zeros((88*88,1))"
      ],
      "execution_count": null,
      "outputs": []
    },
    {
      "cell_type": "code",
      "metadata": {
        "id": "pf0zKARx7-cJ"
      },
      "source": [
        "# for e,(i,j) in enumerate(pairs):\n",
        "#   if i>j:\n",
        "#     conditions[e]=0\n",
        "#   if i==j:\n",
        "#     conditions[e]=1\n",
        "#   if i<j:\n",
        "#     conditions[e]=2"
      ],
      "execution_count": null,
      "outputs": []
    },
    {
      "cell_type": "markdown",
      "metadata": {
        "id": "PKuKrrS2V_UY"
      },
      "source": [
        "Transition Matrix"
      ]
    },
    {
      "cell_type": "code",
      "metadata": {
        "colab": {
          "base_uri": "https://localhost:8080/"
        },
        "id": "Xmw-s0a2JxPu",
        "outputId": "4a155746-7009-48bb-965f-ea32dd2c8580"
      },
      "source": [
        "# octave = np.array([[.30,.20,.05,.10,.10,.05,.05,.15],\n",
        "#                    [.15,.30,.15,.10,.10,.10,.05,.05],\n",
        "#                    [.10,.15,.30,.15,.05,.05,.15,.05],\n",
        "#                    [.10,.05,.15,.30,.15,.05,.05,.15],\n",
        "#                    [.15,.10,.05,.15,.30,.15,.05,.05],\n",
        "#                    [.10,.15,.05,.05,.15,.30,.15,.05],\n",
        "#                    [.10,.05,.15,.05,.05,.15,.30,.15],\n",
        "#                    [.10,.05,.05,.15,.10,.05,.20,.30]])\n",
        "# print(np.sum(octave,1), np.sum(octave,0))"
      ],
      "execution_count": null,
      "outputs": [
        {
          "output_type": "stream",
          "name": "stdout",
          "text": [
            "[1. 1. 1. 1. 1. 1. 1. 1.] [1.1  1.05 0.95 1.05 1.   0.9  1.   0.95]\n"
          ]
        }
      ]
    },
    {
      "cell_type": "code",
      "metadata": {
        "colab": {
          "base_uri": "https://localhost:8080/"
        },
        "id": "jPoJQSf-ves0",
        "outputId": "9dfe0014-a2f0-4a52-8322-f853f08a66ec"
      },
      "source": [
        "# twoctave = np.array([[6,4,1,2,2,1,1,3],\n",
        "#                      [3,6,3,2,2,2,1,1],\n",
        "#                      [2,3,6,3,1,1,3,1],\n",
        "#                      [2,1,3,6,3,1,1,3],\n",
        "#                      [3,2,1,3,6,3,1,1],\n",
        "#                      [2,3,1,1,3,6,3,1],\n",
        "#                      [2,1,3,1,1,3,6,3],\n",
        "#                      [2,1,1,3,2,1,4,6]])\n",
        "# twoctave = twoctave/20\n",
        "# print(np.sum(twoctave,1), np.sum(twoctave,0))"
      ],
      "execution_count": null,
      "outputs": [
        {
          "output_type": "stream",
          "name": "stdout",
          "text": [
            "[1. 1. 1. 1. 1. 1. 1. 1.] [1.1  1.05 0.95 1.05 1.   0.9  1.   0.95]\n"
          ]
        }
      ]
    },
    {
      "cell_type": "code",
      "metadata": {
        "colab": {
          "base_uri": "https://localhost:8080/"
        },
        "id": "2e8ShuavwoNc",
        "outputId": "c4e9639a-7ed9-4ae6-e203-d3e6985428a7"
      },
      "source": [
        "twoctave = np.array([[8,8,3,5,6,3,2,6,1,1,1,1,1,1,3],\n",
        "                     [8,8,8,2,4,6,2,2,4,1,1,1,1,1,1],\n",
        "                     [2,7,8,7,3,4,6,2,2,4,1,1,1,1,1],\n",
        "                     [3,2,7,8,7,2,3,6,2,2,4,1,1,1,1],\n",
        "                     [4,3,2,7,8,7,2,2,4,2,2,4,1,1,1],\n",
        "                     [1,4,2,2,7,8,7,2,3,4,2,2,4,1,1],\n",
        "                     [2,2,4,2,2,6,8,6,2,3,4,2,2,4,1],\n",
        "                     [3,2,2,4,2,2,6,8,6,2,2,4,2,2,3],\n",
        "                     [1,4,2,2,4,3,1,6,8,6,2,3,4,2,2],\n",
        "                     [1,1,4,2,2,4,3,2,6,8,6,2,3,4,2],\n",
        "                     [1,1,1,4,2,2,4,3,2,6,8,7,2,3,4],\n",
        "                     [1,1,1,1,4,2,2,4,3,2,8,8,7,2,4],\n",
        "                     [1,1,1,1,1,4,2,2,4,4,2,8,8,8,3],\n",
        "                     [1,1,1,1,1,1,4,2,2,5,4,3,8,8,8],\n",
        "                     [3,1,1,1,1,1,1,5,3,3,6,5,3,8,8]])\n",
        "twoctave = twoctave/50\n",
        "print(np.sum(twoctave,1))"
      ],
      "execution_count": null,
      "outputs": [
        {
          "output_type": "stream",
          "name": "stdout",
          "text": [
            "[1. 1. 1. 1. 1. 1. 1. 1. 1. 1. 1. 1. 1. 1. 1.]\n"
          ]
        }
      ]
    },
    {
      "cell_type": "code",
      "metadata": {
        "colab": {
          "base_uri": "https://localhost:8080/"
        },
        "id": "Z2jJ3v-TYFmX",
        "outputId": "a02b4d9a-1145-442f-cb26-5b142c8c0774"
      },
      "source": [
        "seq_len = 16\n",
        "num_seqs = 5000\n",
        "seqs = np.zeros((num_seqs,seq_len),dtype='int64')\n",
        "octave_sampler = Categorical(probs=torch.from_numpy(twoctave)) # generates different transition probabilities (axis 1) based on the previous note (axis 0).\n",
        "for s in range(num_seqs): # for each sequence\n",
        "  for pos in range(seq_len): # for each note in the sequence\n",
        "    if pos == 0: # start all sequences as if C was previous note\n",
        "      seqs[s,pos]=octave_sampler.sample()[0] \n",
        "    else: # choose sample from the distribution of the last note\n",
        "      seqs[s,pos]=octave_sampler.sample()[seqs[s,pos-1]] \n",
        "print(seqs)"
      ],
      "execution_count": null,
      "outputs": [
        {
          "output_type": "stream",
          "name": "stdout",
          "text": [
            "[[ 0  6  1 ... 14  3  4]\n",
            " [ 7 11 10 ...  1  1  2]\n",
            " [ 7  1  0 ...  5  1  3]\n",
            " ...\n",
            " [ 1  0  3 ...  6 13  5]\n",
            " [11  7  6 ...  0  1  1]\n",
            " [ 0  4  4 ...  4 11  7]]\n"
          ]
        }
      ]
    },
    {
      "cell_type": "markdown",
      "metadata": {
        "id": "xpeMKAGG5Vv-"
      },
      "source": [
        "Note Pairs"
      ]
    },
    {
      "cell_type": "code",
      "metadata": {
        "id": "0AHkRfc7eEIu"
      },
      "source": [
        "def best_fit_slope_and_intercept(xs,ys):\n",
        "    m = (((np.mean(xs)*np.mean(ys)) - np.mean(xs*ys)) /\n",
        "         ((np.mean(xs)*np.mean(xs)) - np.mean(xs*xs)))\n",
        "    \n",
        "    b = np.mean(ys) - m*np.mean(xs)\n",
        "    \n",
        "    return m, b"
      ],
      "execution_count": null,
      "outputs": []
    },
    {
      "cell_type": "code",
      "source": [
        "from sklearn.decomposition import PCA\n",
        "pca = PCA(n_components=16)\n",
        "pca.fit(seqs)\n",
        "print(pca.explained_variance_ratio_)\n",
        "print(pca.singular_values_)"
      ],
      "metadata": {
        "colab": {
          "base_uri": "https://localhost:8080/"
        },
        "id": "bhe-VIz7RJuZ",
        "outputId": "609e7455-2cda-4637-8c75-af866265070b"
      },
      "execution_count": null,
      "outputs": [
        {
          "output_type": "stream",
          "name": "stdout",
          "text": [
            "[0.15445054 0.13416171 0.11740887 0.0997733  0.07747048 0.06884743\n",
            " 0.05562715 0.04760596 0.04168167 0.03494172 0.03296608 0.03086719\n",
            " 0.02794478 0.02674944 0.02525708 0.02424658]\n",
            "[455.59069678 424.61410968 397.21952343 366.17381772 322.66230873\n",
            " 304.1753389  273.41574908 252.93609506 236.67517522 216.69668815\n",
            " 210.48143636 203.67077121 193.78959605 189.59961345 184.23481925\n",
            " 180.51171011]\n"
          ]
        }
      ]
    },
    {
      "cell_type": "code",
      "source": [
        "plt.bar(range(16),pca.explained_variance_ratio_)"
      ],
      "metadata": {
        "colab": {
          "base_uri": "https://localhost:8080/",
          "height": 283
        },
        "id": "vw1OJxNfUSdx",
        "outputId": "e0217bd9-d1a5-4e0a-a8e6-2466bf6a8fc6"
      },
      "execution_count": null,
      "outputs": [
        {
          "output_type": "execute_result",
          "data": {
            "text/plain": [
              "<BarContainer object of 16 artists>"
            ]
          },
          "metadata": {},
          "execution_count": 25
        },
        {
          "output_type": "display_data",
          "data": {
            "image/png": "[encoded data removed]",
            "text/plain": [
              "<Figure size 432x288 with 1 Axes>"
            ]
          },
          "metadata": {
            "needs_background": "light"
          }
        }
      ]
    },
    {
      "cell_type": "code",
      "source": [
        "contours = seqs\n",
        "n_c = 6\n",
        "def show_pca(contours):\n",
        "    pca = PCA(n_components=16)\n",
        "    pca.fit(contours)\n",
        "    N = contours.shape[1]\n",
        "    xs = np.arange(0, N)\n",
        "    for k in range(4):\n",
        "        comp = pca.components_[k]\n",
        "        # v = cosine(xs, k, N)\n",
        "        \n",
        "        # if np.linalg.norm(-1*comp - v) < np.linalg.norm(comp - v):\n",
        "            # comp = -1 * comp\n",
        "    \n",
        "        color = '0.5' if k == 0 else f'C{k-1}'\n",
        "        plt.plot(xs, comp, label=f'$C_{k}$', c=color)\n",
        "        # plt.plot(xs, v, c=color, ls='--', alpha=.5, lw=.5)\n",
        "\n",
        "plt.figure(figsize=(8, 4))\n",
        "show_pca(contours)"
      ],
      "metadata": {
        "colab": {
          "base_uri": "https://localhost:8080/",
          "height": 265
        },
        "id": "3YhW4PYyScQs",
        "outputId": "242da959-5fdb-466c-fd15-3d562b6cc7ed"
      },
      "execution_count": null,
      "outputs": [
        {
          "output_type": "display_data",
          "data": {
            "image/png": "[encoded data removed]",
            "text/plain": [
              "<Figure size 576x288 with 1 Axes>"
            ]
          },
          "metadata": {
            "needs_background": "light"
          }
        }
      ]
    },
    {
      "cell_type": "code",
      "source": [
        "for i in range(1,4):\n",
        "  rpt = i\n",
        "  tot_var = np.zeros((1,(seq_len*rpt)-1))\n",
        "  for i in range(num_seqs):\n",
        "    y = seqs[i]\n",
        "    y_longer = [x for x in y for a in range(rpt)]\n",
        "    xs = range(len(y_longer))\n",
        "    ys = y_longer\n",
        "    N = len(y_longer)\n",
        "    cs = dct(ys, norm='ortho')\n",
        "    tot_var+=cs[1:]**2\n",
        "  # print(tot_var/np.sum(tot_var))\n",
        "  plt.bar(list(range(len(tot_var[0]))),tot_var[0]/np.sum(tot_var))\n",
        "  plt.show()"
      ],
      "metadata": {
        "colab": {
          "base_uri": "https://localhost:8080/",
          "height": 761
        },
        "id": "qU_0fOrdKGPh",
        "outputId": "69ce4093-a16e-43ae-8498-24e22253bfaf"
      },
      "execution_count": null,
      "outputs": [
        {
          "output_type": "display_data",
          "data": {
            "image/png": "[encoded data removed]",
            "text/plain": [
              "<Figure size 432x288 with 1 Axes>"
            ]
          },
          "metadata": {
            "needs_background": "light"
          }
        },
        {
          "output_type": "display_data",
          "data": {
            "image/png": "[encoded data removed]",
            "text/plain": [
              "<Figure size 432x288 with 1 Axes>"
            ]
          },
          "metadata": {
            "needs_background": "light"
          }
        },
        {
          "output_type": "display_data",
          "data": {
            "image/png": "[encoded data removed]",
            "text/plain": [
              "<Figure size 432x288 with 1 Axes>"
            ]
          },
          "metadata": {
            "needs_background": "light"
          }
        }
      ]
    },
    {
      "cell_type": "code",
      "source": [
        "for i in range(num_seqs):\n",
        "  y = seqs[i]\n",
        "  y_longer = [x for x in y for a in range(2)]\n",
        "  xs = range(len(y_longer))\n",
        "  ys = y_longer\n",
        "  N = len(y_longer)\n",
        "  cs = dct(ys, norm='ortho')\n",
        "\n",
        "  low = 0\n",
        "  ma = []\n",
        "  k = 5\n",
        "  start = 0\n",
        "  for i in range(len(ys)):\n",
        "    ma.append(np.array(ys[low:i+1]).mean())\n",
        "    if i>=k:\n",
        "      low = i-k\n",
        "  plt.plot(xs,ma)\n",
        "\n",
        "  print(cs[1:4])\n",
        "  plt.scatter(xs[:],ys[:])\n",
        "  za = idct(cs[:], n=N, norm='ortho')\n",
        "  plt.plot(xs, za, alpha=.7, lw=1.5, c='y')\n",
        "  plt.show()\n"
      ],
      "metadata": {
        "colab": {
          "base_uri": "https://localhost:8080/",
          "height": 1000
        },
        "id": "v3g76xJ9JoLI",
        "outputId": "13fdc166-d118-46d6-f5c4-b4094200b9e1"
      },
      "execution_count": null,
      "outputs": [
        {
          "output_type": "stream",
          "name": "stdout",
          "text": [
            "[17.04540445  4.01279145 -5.73354117]\n"
          ]
        },
        {
          "output_type": "display_data",
          "data": {
            "image/png": "[encoded data removed]",
            "text/plain": [
              "<Figure size 432x288 with 1 Axes>"
            ]
          },
          "metadata": {
            "needs_background": "light"
          }
        },
        {
          "output_type": "stream",
          "name": "stdout",
          "text": [
            "[13.0379848  -5.62691825  0.81465327]\n"
          ]
        },
        {
          "output_type": "display_data",
          "data": {
            "image/png": "[encoded data removed]",
            "text/plain": [
              "<Figure size 432x288 with 1 Axes>"
            ]
          },
          "metadata": {
            "needs_background": "light"
          }
        },
        {
          "output_type": "stream",
          "name": "stdout",
          "text": [
            "[-4.28824578  5.51565888 -0.19894425]\n"
          ]
        },
        {
          "output_type": "display_data",
          "data": {
            "image/png": "[encoded data removed]",
            "text/plain": [
              "<Figure size 432x288 with 1 Axes>"
            ]
          },
          "metadata": {
            "needs_background": "light"
          }
        },
        {
          "output_type": "stream",
          "name": "stdout",
          "text": [
            "[ -9.32521753  -3.2117014  -10.68419568]\n"
          ]
        },
        {
          "output_type": "display_data",
          "data": {
            "image/png": "[encoded data removed]",
            "text/plain": [
              "<Figure size 432x288 with 1 Axes>"
            ]
          },
          "metadata": {
            "needs_background": "light"
          }
        },
        {
          "output_type": "stream",
          "name": "stdout",
          "text": [
            "[ 4.56559181 12.0263528   1.036959  ]\n"
          ]
        },
        {
          "output_type": "display_data",
          "data": {
            "image/png": "[encoded data removed]",
            "text/plain": [
              "<Figure size 432x288 with 1 Axes>"
            ]
          },
          "metadata": {
            "needs_background": "light"
          }
        }
      ]
    },
    {
      "cell_type": "code",
      "source": [
        "conds = np.zeros((5000,3))\n",
        "for i in range(num_seqs):\n",
        "  y = seqs[i]\n",
        "  y_longer = [x for x in y for a in range(2)]\n",
        "  xs = range(len(y_longer))\n",
        "  ys = y_longer\n",
        "  N = len(y_longer)\n",
        "  cs = dct(ys, norm='ortho')\n",
        "  conds[i,:]=cs[1:4]\n",
        "conds"
      ],
      "metadata": {
        "colab": {
          "base_uri": "https://localhost:8080/"
        },
        "id": "qh_T77SOhxKJ",
        "outputId": "bb55762a-c1cb-4dc3-a9ca-d4156447569a"
      },
      "execution_count": null,
      "outputs": [
        {
          "output_type": "execute_result",
          "data": {
            "text/plain": [
              "array([[-8.32817142,  7.12657601,  1.56510569],\n",
              "       [20.41626396,  0.62956164, -8.24642942],\n",
              "       [-5.55868844, -9.44375768,  9.42538712],\n",
              "       ...,\n",
              "       [-9.92237778,  2.20263708, -7.97258039],\n",
              "       [15.63043938, -9.03458317,  2.0281331 ],\n",
              "       [-6.15427821, -4.7235631 , -8.64561519]])"
            ]
          },
          "metadata": {},
          "execution_count": 34
        }
      ]
    },
    {
      "cell_type": "code",
      "source": [
        "\n",
        "plt.scatter(xs,ys)"
      ],
      "metadata": {
        "colab": {
          "base_uri": "https://localhost:8080/",
          "height": 282
        },
        "id": "YrqTGGW8Q3eS",
        "outputId": "8425fd76-e728-4414-aa1d-5123a1ed6ec1"
      },
      "execution_count": null,
      "outputs": [
        {
          "output_type": "execute_result",
          "data": {
            "text/plain": [
              "<matplotlib.collections.PathCollection at 0x7f5b9e61ad10>"
            ]
          },
          "metadata": {},
          "execution_count": 39
        },
        {
          "output_type": "display_data",
          "data": {
            "image/png": "[encoded data removed]",
            "text/plain": [
              "<Figure size 432x288 with 1 Axes>"
            ]
          },
          "metadata": {
            "needs_background": "light"
          }
        }
      ]
    },
    {
      "cell_type": "code",
      "metadata": {
        "colab": {
          "base_uri": "https://localhost:8080/",
          "height": 282
        },
        "id": "vbACP47-fU__",
        "outputId": "432105fa-7008-4672-8889-a29c8e093006"
      },
      "source": [
        "ys = seqs[4]\n",
        "plt.scatter(xs,seqs[4])\n",
        "m, b = best_fit_slope_and_intercept(xs,seqs[4])\n",
        "line = [(m*x)+b for x in xs]\n",
        "plt.plot(xs,line)"
      ],
      "execution_count": null,
      "outputs": [
        {
          "output_type": "execute_result",
          "data": {
            "text/plain": [
              "[<matplotlib.lines.Line2D at 0x7f35a48e19d0>]"
            ]
          },
          "metadata": {},
          "execution_count": 29
        },
        {
          "output_type": "display_data",
          "data": {
            "image/png": "[encoded data removed]",
            "text/plain": [
              "<Figure size 432x288 with 1 Axes>"
            ]
          },
          "metadata": {
            "needs_background": "light"
          }
        }
      ]
    },
    {
      "cell_type": "code",
      "metadata": {
        "id": "Fm9TPK_CqPm1"
      },
      "source": [
        "for s in range(seqs.shape[0]):\n",
        "  for i,x in enumerate(seqs[s]):\n",
        "      seqs[s][i]=note2scale(x)"
      ],
      "execution_count": null,
      "outputs": []
    },
    {
      "cell_type": "code",
      "metadata": {
        "id": "K9JLpL1TZx4Z"
      },
      "source": [
        "xs = np.array(range(16))\n",
        "ys = seqs[0]\n",
        "# ms = np.zeros((num_seqs,1))\n",
        "ms= []\n",
        "m, b = best_fit_slope_and_intercept(xs,ys)\n",
        "line = [(m*x)+b for x in xs]\n",
        "for seq in seqs:\n",
        "  m, _ = best_fit_slope_and_intercept(xs,seq)\n",
        "  ms.append(m)\n",
        "# plt.scatter(xs,ys)\n",
        "# plt.plot(xs,line)"
      ],
      "execution_count": null,
      "outputs": []
    },
    {
      "cell_type": "code",
      "metadata": {
        "colab": {
          "base_uri": "https://localhost:8080/"
        },
        "id": "Udg7RP1vdGSI",
        "outputId": "68616797-5197-4127-e25d-49117df31e8e"
      },
      "source": [
        "a = [-0.8,-0.6,-0.4,-0.2,0,0.2,0.4,0.6,0.8]\n",
        "len(a)"
      ],
      "execution_count": null,
      "outputs": [
        {
          "output_type": "execute_result",
          "data": {
            "text/plain": [
              "9"
            ]
          },
          "metadata": {},
          "execution_count": 9
        }
      ]
    },
    {
      "cell_type": "code",
      "metadata": {
        "id": "aBmVwcb_d1wa"
      },
      "source": [
        ""
      ],
      "execution_count": null,
      "outputs": []
    },
    {
      "cell_type": "code",
      "metadata": {
        "colab": {
          "base_uri": "https://localhost:8080/"
        },
        "id": "C7g2C_OOO0xA",
        "outputId": "ecd94ca8-bbaf-4faf-e306-d218213fc8bb"
      },
      "source": [
        "ms = np.array(ms)\n",
        "n = np.zeros(10)\n",
        "for m in ms:\n",
        "  if m<a[0]:\n",
        "    n[0]+=1\n",
        "  for x in range(1,len(a)-1):\n",
        "    if a[x-1]<m<a[x]:\n",
        "      n[1]+=1\n",
        "  if m>a[8]:\n",
        "    n[2]+=1\n",
        "print(n)"
      ],
      "execution_count": null,
      "outputs": [
        {
          "output_type": "stream",
          "name": "stdout",
          "text": [
            "[    0. 49998.     0.     0.     0.     0.     0.     0.     0.     0.]\n"
          ]
        }
      ]
    },
    {
      "cell_type": "code",
      "metadata": {
        "id": "60YpNdy4fkeg"
      },
      "source": [
        "m_classes"
      ],
      "execution_count": null,
      "outputs": []
    },
    {
      "cell_type": "code",
      "metadata": {
        "id": "3KxjUEIR324C"
      },
      "source": [
        "def note2scale(x):\n",
        "  n2s = {'0':60,'1':62,'2':64,'3':65,'4':67,'5':69,'6':71,'7':72,'8':74,'9':76,'10':77,'11':79,'12':81,'13':83,'14':84}\n",
        "  return n2s.get(str(int(x)),x)"
      ],
      "execution_count": null,
      "outputs": []
    },
    {
      "cell_type": "code",
      "metadata": {
        "id": "i5PpOpBnhEHT"
      },
      "source": [
        "for s in range(seqs.shape[0]):\n",
        "  for i,x in enumerate(seqs[s]):\n",
        "      seqs[s][i]=note2scale(x)"
      ],
      "execution_count": null,
      "outputs": []
    },
    {
      "cell_type": "code",
      "metadata": {
        "id": "6WlqDwTchppB"
      },
      "source": [
        "pairs = seqs"
      ],
      "execution_count": null,
      "outputs": []
    },
    {
      "cell_type": "code",
      "metadata": {
        "id": "1Av5zhdVhFAa"
      },
      "source": [
        "conditions=np.array(m_classes,ndmin=2).T"
      ],
      "execution_count": null,
      "outputs": []
    },
    {
      "cell_type": "code",
      "metadata": {
        "colab": {
          "base_uri": "https://localhost:8080/"
        },
        "id": "VjzuKyafhxOM",
        "outputId": "4b0105f9-ac52-4490-9e5a-b89c6778fa01"
      },
      "source": [
        "conditions"
      ],
      "execution_count": null,
      "outputs": [
        {
          "output_type": "execute_result",
          "data": {
            "text/plain": [
              "array([[0],\n",
              "       [2],\n",
              "       [1],\n",
              "       ...,\n",
              "       [1],\n",
              "       [1],\n",
              "       [0]])"
            ]
          },
          "metadata": {},
          "execution_count": 67
        }
      ]
    },
    {
      "cell_type": "code",
      "metadata": {
        "id": "AxFTmFEYQine"
      },
      "source": [
        "# seqs = np.zeros((1000,2),dtype=int)\n",
        "# for s in range(seqs.shape[0]):\n",
        "#   seq = octave_sampler.sample()\n",
        "#   seq = seq[:2]\n",
        "#   for i,x in enumerate(seq):\n",
        "#     if x==0:\n",
        "#       seqs[s][i]=60\n",
        "#     if x==1:\n",
        "#       seqs[s][i]=62\n",
        "#     if x==2:\n",
        "#       seqs[s][i]=64\n",
        "#     if x==3:\n",
        "#       seqs[s][i]=65\n",
        "#     if x==4:\n",
        "#       seqs[s][i]=67\n",
        "#     if x==5:\n",
        "#       seqs[s][i]=69\n",
        "#     if x==6:\n",
        "#       seqs[s][i]=71\n",
        "#     if x==7:\n",
        "#       seqs[s][i]=72"
      ],
      "execution_count": null,
      "outputs": []
    },
    {
      "cell_type": "code",
      "metadata": {
        "id": "jIXfmpZnRTz9"
      },
      "source": [
        "# pairs = seqs\n",
        "# conditions = np.zeros((1000,1))\n",
        "# for e,(i,j) in enumerate(pairs):\n",
        "#   if i>j:\n",
        "#     conditions[e]=0\n",
        "#   if i==j:\n",
        "#     conditions[e]=1\n",
        "#   if i<j:\n",
        "#     conditions[e]=2"
      ],
      "execution_count": null,
      "outputs": []
    },
    {
      "cell_type": "markdown",
      "metadata": {
        "id": "XXzBct53JB_y"
      },
      "source": [
        "Convert to csv"
      ]
    },
    {
      "cell_type": "code",
      "metadata": {
        "id": "yDx9P2qY7u_E"
      },
      "source": [
        "pairs = pairs.astype(int)"
      ],
      "execution_count": null,
      "outputs": []
    },
    {
      "cell_type": "code",
      "metadata": {
        "id": "C7g3dRqO8QuV"
      },
      "source": [
        "conditions = conditions.astype(int)"
      ],
      "execution_count": null,
      "outputs": []
    },
    {
      "cell_type": "code",
      "metadata": {
        "id": "B85Xe4HP82QE"
      },
      "source": [
        "pairs = pd.DataFrame(pairs)"
      ],
      "execution_count": null,
      "outputs": []
    },
    {
      "cell_type": "code",
      "metadata": {
        "id": "UEZlWXnO9gu8"
      },
      "source": [
        "conditions = pd.DataFrame(conditions)"
      ],
      "execution_count": null,
      "outputs": []
    },
    {
      "cell_type": "code",
      "source": [
        "conditions = pd.DataFrame(conds)"
      ],
      "metadata": {
        "id": "96wyFBA1i2ql"
      },
      "execution_count": null,
      "outputs": []
    },
    {
      "cell_type": "code",
      "metadata": {
        "id": "-S11Sg-3AXxR",
        "colab": {
          "base_uri": "https://localhost:8080/",
          "height": 424
        },
        "outputId": "35c4602a-febb-4dc6-bd2d-43c4e6c94b36"
      },
      "source": [
        "pairs"
      ],
      "execution_count": null,
      "outputs": [
        {
          "output_type": "execute_result",
          "data": {
            "text/html": [
              "<div>\n",
              "<style scoped>\n",
              "    .dataframe tbody tr th:only-of-type {\n",
              "        vertical-align: middle;\n",
              "    }\n",
              "\n",
              "    .dataframe tbody tr th {\n",
              "        vertical-align: top;\n",
              "    }\n",
              "\n",
              "    .dataframe thead th {\n",
              "        text-align: right;\n",
              "    }\n",
              "</style>\n",
              "<table border=\"1\" class=\"dataframe\">\n",
              "  <thead>\n",
              "    <tr style=\"text-align: right;\">\n",
              "      <th></th>\n",
              "      <th>0</th>\n",
              "      <th>1</th>\n",
              "      <th>2</th>\n",
              "      <th>3</th>\n",
              "      <th>4</th>\n",
              "      <th>5</th>\n",
              "      <th>6</th>\n",
              "      <th>7</th>\n",
              "      <th>8</th>\n",
              "      <th>9</th>\n",
              "      <th>10</th>\n",
              "      <th>11</th>\n",
              "      <th>12</th>\n",
              "      <th>13</th>\n",
              "      <th>14</th>\n",
              "      <th>15</th>\n",
              "    </tr>\n",
              "  </thead>\n",
              "  <tbody>\n",
              "    <tr>\n",
              "      <th>0</th>\n",
              "      <td>0</td>\n",
              "      <td>6</td>\n",
              "      <td>1</td>\n",
              "      <td>1</td>\n",
              "      <td>0</td>\n",
              "      <td>0</td>\n",
              "      <td>1</td>\n",
              "      <td>1</td>\n",
              "      <td>0</td>\n",
              "      <td>3</td>\n",
              "      <td>2</td>\n",
              "      <td>3</td>\n",
              "      <td>2</td>\n",
              "      <td>14</td>\n",
              "      <td>3</td>\n",
              "      <td>4</td>\n",
              "    </tr>\n",
              "    <tr>\n",
              "      <th>1</th>\n",
              "      <td>7</td>\n",
              "      <td>11</td>\n",
              "      <td>10</td>\n",
              "      <td>11</td>\n",
              "      <td>14</td>\n",
              "      <td>14</td>\n",
              "      <td>6</td>\n",
              "      <td>7</td>\n",
              "      <td>2</td>\n",
              "      <td>0</td>\n",
              "      <td>3</td>\n",
              "      <td>4</td>\n",
              "      <td>5</td>\n",
              "      <td>1</td>\n",
              "      <td>1</td>\n",
              "      <td>2</td>\n",
              "    </tr>\n",
              "    <tr>\n",
              "      <th>2</th>\n",
              "      <td>7</td>\n",
              "      <td>1</td>\n",
              "      <td>0</td>\n",
              "      <td>1</td>\n",
              "      <td>3</td>\n",
              "      <td>7</td>\n",
              "      <td>7</td>\n",
              "      <td>3</td>\n",
              "      <td>4</td>\n",
              "      <td>11</td>\n",
              "      <td>10</td>\n",
              "      <td>12</td>\n",
              "      <td>4</td>\n",
              "      <td>5</td>\n",
              "      <td>1</td>\n",
              "      <td>3</td>\n",
              "    </tr>\n",
              "    <tr>\n",
              "      <th>3</th>\n",
              "      <td>4</td>\n",
              "      <td>0</td>\n",
              "      <td>3</td>\n",
              "      <td>7</td>\n",
              "      <td>0</td>\n",
              "      <td>0</td>\n",
              "      <td>1</td>\n",
              "      <td>0</td>\n",
              "      <td>3</td>\n",
              "      <td>7</td>\n",
              "      <td>6</td>\n",
              "      <td>0</td>\n",
              "      <td>0</td>\n",
              "      <td>12</td>\n",
              "      <td>1</td>\n",
              "      <td>5</td>\n",
              "    </tr>\n",
              "    <tr>\n",
              "      <th>4</th>\n",
              "      <td>7</td>\n",
              "      <td>6</td>\n",
              "      <td>4</td>\n",
              "      <td>13</td>\n",
              "      <td>3</td>\n",
              "      <td>7</td>\n",
              "      <td>6</td>\n",
              "      <td>3</td>\n",
              "      <td>9</td>\n",
              "      <td>5</td>\n",
              "      <td>4</td>\n",
              "      <td>4</td>\n",
              "      <td>4</td>\n",
              "      <td>2</td>\n",
              "      <td>6</td>\n",
              "      <td>3</td>\n",
              "    </tr>\n",
              "    <tr>\n",
              "      <th>...</th>\n",
              "      <td>...</td>\n",
              "      <td>...</td>\n",
              "      <td>...</td>\n",
              "      <td>...</td>\n",
              "      <td>...</td>\n",
              "      <td>...</td>\n",
              "      <td>...</td>\n",
              "      <td>...</td>\n",
              "      <td>...</td>\n",
              "      <td>...</td>\n",
              "      <td>...</td>\n",
              "      <td>...</td>\n",
              "      <td>...</td>\n",
              "      <td>...</td>\n",
              "      <td>...</td>\n",
              "      <td>...</td>\n",
              "    </tr>\n",
              "    <tr>\n",
              "      <th>4995</th>\n",
              "      <td>14</td>\n",
              "      <td>9</td>\n",
              "      <td>1</td>\n",
              "      <td>13</td>\n",
              "      <td>11</td>\n",
              "      <td>12</td>\n",
              "      <td>12</td>\n",
              "      <td>11</td>\n",
              "      <td>10</td>\n",
              "      <td>14</td>\n",
              "      <td>9</td>\n",
              "      <td>10</td>\n",
              "      <td>10</td>\n",
              "      <td>10</td>\n",
              "      <td>9</td>\n",
              "      <td>0</td>\n",
              "    </tr>\n",
              "    <tr>\n",
              "      <th>4996</th>\n",
              "      <td>0</td>\n",
              "      <td>3</td>\n",
              "      <td>4</td>\n",
              "      <td>3</td>\n",
              "      <td>2</td>\n",
              "      <td>5</td>\n",
              "      <td>4</td>\n",
              "      <td>4</td>\n",
              "      <td>3</td>\n",
              "      <td>0</td>\n",
              "      <td>4</td>\n",
              "      <td>2</td>\n",
              "      <td>7</td>\n",
              "      <td>2</td>\n",
              "      <td>5</td>\n",
              "      <td>8</td>\n",
              "    </tr>\n",
              "    <tr>\n",
              "      <th>4997</th>\n",
              "      <td>1</td>\n",
              "      <td>0</td>\n",
              "      <td>3</td>\n",
              "      <td>2</td>\n",
              "      <td>3</td>\n",
              "      <td>8</td>\n",
              "      <td>1</td>\n",
              "      <td>9</td>\n",
              "      <td>0</td>\n",
              "      <td>2</td>\n",
              "      <td>2</td>\n",
              "      <td>6</td>\n",
              "      <td>5</td>\n",
              "      <td>6</td>\n",
              "      <td>13</td>\n",
              "      <td>5</td>\n",
              "    </tr>\n",
              "    <tr>\n",
              "      <th>4998</th>\n",
              "      <td>11</td>\n",
              "      <td>7</td>\n",
              "      <td>6</td>\n",
              "      <td>9</td>\n",
              "      <td>10</td>\n",
              "      <td>11</td>\n",
              "      <td>1</td>\n",
              "      <td>11</td>\n",
              "      <td>13</td>\n",
              "      <td>8</td>\n",
              "      <td>5</td>\n",
              "      <td>2</td>\n",
              "      <td>3</td>\n",
              "      <td>0</td>\n",
              "      <td>1</td>\n",
              "      <td>1</td>\n",
              "    </tr>\n",
              "    <tr>\n",
              "      <th>4999</th>\n",
              "      <td>0</td>\n",
              "      <td>4</td>\n",
              "      <td>4</td>\n",
              "      <td>4</td>\n",
              "      <td>5</td>\n",
              "      <td>7</td>\n",
              "      <td>6</td>\n",
              "      <td>12</td>\n",
              "      <td>9</td>\n",
              "      <td>3</td>\n",
              "      <td>2</td>\n",
              "      <td>6</td>\n",
              "      <td>6</td>\n",
              "      <td>4</td>\n",
              "      <td>11</td>\n",
              "      <td>7</td>\n",
              "    </tr>\n",
              "  </tbody>\n",
              "</table>\n",
              "<p>5000 rows × 16 columns</p>\n",
              "</div>"
            ],
            "text/plain": [
              "      0   1   2   3   4   5   6   7   8   9   10  11  12  13  14  15\n",
              "0      0   6   1   1   0   0   1   1   0   3   2   3   2  14   3   4\n",
              "1      7  11  10  11  14  14   6   7   2   0   3   4   5   1   1   2\n",
              "2      7   1   0   1   3   7   7   3   4  11  10  12   4   5   1   3\n",
              "3      4   0   3   7   0   0   1   0   3   7   6   0   0  12   1   5\n",
              "4      7   6   4  13   3   7   6   3   9   5   4   4   4   2   6   3\n",
              "...   ..  ..  ..  ..  ..  ..  ..  ..  ..  ..  ..  ..  ..  ..  ..  ..\n",
              "4995  14   9   1  13  11  12  12  11  10  14   9  10  10  10   9   0\n",
              "4996   0   3   4   3   2   5   4   4   3   0   4   2   7   2   5   8\n",
              "4997   1   0   3   2   3   8   1   9   0   2   2   6   5   6  13   5\n",
              "4998  11   7   6   9  10  11   1  11  13   8   5   2   3   0   1   1\n",
              "4999   0   4   4   4   5   7   6  12   9   3   2   6   6   4  11   7\n",
              "\n",
              "[5000 rows x 16 columns]"
            ]
          },
          "metadata": {},
          "execution_count": 40
        }
      ]
    },
    {
      "cell_type": "code",
      "metadata": {
        "id": "KZDwXudzAe7G",
        "colab": {
          "base_uri": "https://localhost:8080/",
          "height": 424
        },
        "outputId": "abddf8a8-3047-444f-ac04-2cedb40f0455"
      },
      "source": [
        "conditions"
      ],
      "execution_count": null,
      "outputs": [
        {
          "output_type": "execute_result",
          "data": {
            "text/html": [
              "<div>\n",
              "<style scoped>\n",
              "    .dataframe tbody tr th:only-of-type {\n",
              "        vertical-align: middle;\n",
              "    }\n",
              "\n",
              "    .dataframe tbody tr th {\n",
              "        vertical-align: top;\n",
              "    }\n",
              "\n",
              "    .dataframe thead th {\n",
              "        text-align: right;\n",
              "    }\n",
              "</style>\n",
              "<table border=\"1\" class=\"dataframe\">\n",
              "  <thead>\n",
              "    <tr style=\"text-align: right;\">\n",
              "      <th></th>\n",
              "      <th>0</th>\n",
              "      <th>1</th>\n",
              "      <th>2</th>\n",
              "    </tr>\n",
              "  </thead>\n",
              "  <tbody>\n",
              "    <tr>\n",
              "      <th>0</th>\n",
              "      <td>-8.328171</td>\n",
              "      <td>7.126576</td>\n",
              "      <td>1.565106</td>\n",
              "    </tr>\n",
              "    <tr>\n",
              "      <th>1</th>\n",
              "      <td>20.416264</td>\n",
              "      <td>0.629562</td>\n",
              "      <td>-8.246429</td>\n",
              "    </tr>\n",
              "    <tr>\n",
              "      <th>2</th>\n",
              "      <td>-5.558688</td>\n",
              "      <td>-9.443758</td>\n",
              "      <td>9.425387</td>\n",
              "    </tr>\n",
              "    <tr>\n",
              "      <th>3</th>\n",
              "      <td>-4.665615</td>\n",
              "      <td>3.199613</td>\n",
              "      <td>2.822497</td>\n",
              "    </tr>\n",
              "    <tr>\n",
              "      <th>4</th>\n",
              "      <td>6.583887</td>\n",
              "      <td>-0.973813</td>\n",
              "      <td>-0.669529</td>\n",
              "    </tr>\n",
              "    <tr>\n",
              "      <th>...</th>\n",
              "      <td>...</td>\n",
              "      <td>...</td>\n",
              "      <td>...</td>\n",
              "    </tr>\n",
              "    <tr>\n",
              "      <th>4995</th>\n",
              "      <td>4.934228</td>\n",
              "      <td>-9.296406</td>\n",
              "      <td>4.198600</td>\n",
              "    </tr>\n",
              "    <tr>\n",
              "      <th>4996</th>\n",
              "      <td>-4.730797</td>\n",
              "      <td>1.896073</td>\n",
              "      <td>-5.549379</td>\n",
              "    </tr>\n",
              "    <tr>\n",
              "      <th>4997</th>\n",
              "      <td>-9.922378</td>\n",
              "      <td>2.202637</td>\n",
              "      <td>-7.972580</td>\n",
              "    </tr>\n",
              "    <tr>\n",
              "      <th>4998</th>\n",
              "      <td>15.630439</td>\n",
              "      <td>-9.034583</td>\n",
              "      <td>2.028133</td>\n",
              "    </tr>\n",
              "    <tr>\n",
              "      <th>4999</th>\n",
              "      <td>-6.154278</td>\n",
              "      <td>-4.723563</td>\n",
              "      <td>-8.645615</td>\n",
              "    </tr>\n",
              "  </tbody>\n",
              "</table>\n",
              "<p>5000 rows × 3 columns</p>\n",
              "</div>"
            ],
            "text/plain": [
              "              0         1         2\n",
              "0     -8.328171  7.126576  1.565106\n",
              "1     20.416264  0.629562 -8.246429\n",
              "2     -5.558688 -9.443758  9.425387\n",
              "3     -4.665615  3.199613  2.822497\n",
              "4      6.583887 -0.973813 -0.669529\n",
              "...         ...       ...       ...\n",
              "4995   4.934228 -9.296406  4.198600\n",
              "4996  -4.730797  1.896073 -5.549379\n",
              "4997  -9.922378  2.202637 -7.972580\n",
              "4998  15.630439 -9.034583  2.028133\n",
              "4999  -6.154278 -4.723563 -8.645615\n",
              "\n",
              "[5000 rows x 3 columns]"
            ]
          },
          "metadata": {},
          "execution_count": 36
        }
      ]
    },
    {
      "cell_type": "code",
      "metadata": {
        "id": "emU5hAUW9hNa"
      },
      "source": [
        "pairs.to_csv('/content/drive/MyDrive/Colab Notebooks/piano_generation/16_seqs_curve.csv',header=False,index=False)\n",
        "conditions.to_csv('/content/drive/MyDrive/Colab Notebooks/piano_generation/16_conditions_curve.csv',header=False,index=False)"
      ],
      "execution_count": null,
      "outputs": []
    },
    {
      "cell_type": "code",
      "metadata": {
        "id": "HHj10Swt9m82"
      },
      "source": [
        ""
      ],
      "execution_count": null,
      "outputs": []
    }
  ]
}